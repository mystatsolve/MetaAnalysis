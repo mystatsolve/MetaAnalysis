{
 "cells": [
  {
   "cell_type": "code",
   "execution_count": 2,
   "metadata": {},
   "outputs": [
    {
     "name": "stderr",
     "output_type": "stream",
     "text": [
      "2024-02-18 09:00:07.274 \n",
      "  \u001b[33m\u001b[1mWarning:\u001b[0m to view this Streamlit app on a browser, run it with the following\n",
      "  command:\n",
      "\n",
      "    streamlit run C:\\Users\\user\\AppData\\Roaming\\Python\\Python39\\site-packages\\ipykernel_launcher.py [ARGUMENTS]\n"
     ]
    }
   ],
   "source": [
    "##가상환경 py39\n",
    "import streamlit as st\n",
    "import pandas as pd\n",
    "from rpy2.robjects import pandas2ri, r\n",
    "from rpy2.robjects.packages import importr\n",
    "robjects.r('install.packages(\"metaSEM\")')\n",
    "\n",
    "# R과 pandas 데이터 프레임 간 변환 활성화\n",
    "pandas2ri.activate()\n",
    "robjects.r('library(\"metaSEM\")')\n",
    "# meta 패키지를 R에서 로드 (R의 meta 패키지가 설치되어 있어야 함)\n",
    "meta = importr('meta')\n",
    "\n",
    "# 탭 생성\n",
    "tab1, tab2 = st.tabs(['Tab A', 'Tab B'])\n",
    "\n",
    "# Tab A 내용\n",
    "with tab1:\n",
    "    st.title(\"R 코드 실행하기\")\n",
    "\n",
    "    # 사용자로부터 데이터 프레임 입력 받기\n",
    "    uploaded_file = st.file_uploader(\"CSV 파일 업로드\", type=['csv'])\n",
    "    if uploaded_file is not None:\n",
    "        data = pd.read_csv(uploaded_file)\n",
    "\n",
    "        # 입력된 데이터 프레임 확인\n",
    "        st.write(\"입력된 데이터 프레임:\")\n",
    "        st.write(data)\n",
    "\n",
    "        # R에서 사용할 수 있도록 데이터 프레임 변환\n",
    "        r_data = pandas2ri.py2rpy(data)\n",
    "\n",
    "        # R 코드 실행\n",
    "        r.assign('Mak09', r_data)\n",
    "        r('mak1 <- meta(y=yi, v=vi, data=Mak09)')\n",
    "        summary2 = r('summary(mak1)')\n",
    "        \n",
    "        # 결과 출력\n",
    "        st.write(\"R 코드 실행 결과:\")\n",
    "        st.text(str(summary2))\n",
    "\n",
    "# Tab B 내용\n",
    "with tab2:\n",
    "    st.write('hi')\n"
   ]
  }
 ],
 "metadata": {
  "kernelspec": {
   "display_name": "py39",
   "language": "python",
   "name": "python3"
  },
  "language_info": {
   "codemirror_mode": {
    "name": "ipython",
    "version": 3
   },
   "file_extension": ".py",
   "mimetype": "text/x-python",
   "name": "python",
   "nbconvert_exporter": "python",
   "pygments_lexer": "ipython3",
   "version": "3.9.17"
  }
 },
 "nbformat": 4,
 "nbformat_minor": 2
}
